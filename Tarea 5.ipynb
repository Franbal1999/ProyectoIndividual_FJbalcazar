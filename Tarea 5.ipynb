{
 "cells": [
  {
   "cell_type": "markdown",
   "metadata": {},
   "source": [
    "<img style=\"float: left; margin: 30px 15px 15px 15px;\" src=\"https://encrypted-tbn0.gstatic.com/images?q=tbn:ANd9GcTFzQj91sOlkeDFkg5HDbjtR4QJYmLXkfMNig&usqp=CAU\" width=\"400\" height=\"500\" /> \n",
    "    \n",
    "    \n",
    "### <font color='navy'> Simulación matemática. \n",
    "\n",
    "**Nombres:** Balcázar Orrantia Francisco Javier\n",
    "\n",
    "**Fecha:** 10 de octubre del 2022.\n",
    "\n",
    "**Expediente** : 737642.\n",
    "    \n",
    "**Profesor:** Oscar David Jaramillo Zuluaga.\n",
    "    \n",
    "**Link Github**: https://github.com/Franbal1999/ProyectoIndividual_FJbalcazar.git\n",
    "\n",
    "# Tarea 5: Clase 10"
   ]
  },
  {
   "cell_type": "markdown",
   "metadata": {},
   "source": [
    "## TAREA 5\n",
    "1. Realizar las siguientes integrales. Poner los resultados en una tabla cuyas filas correspondan a la cantidad de términos utilizados en la aproximación (usar 10, 100, 1000, 10000 y 100000 términos) y cuyas columnas correspondan a las funciones.\n",
    "    + $\\int_{1}^{5} \\log_{10}(2x)+8^x\\text{d}x$.\n",
    "    + $\\int_1^5 \\frac{2^x}{x^4} \\text{d}x$\n",
    "\n",
    "**Entregable: se debe subir un archivo con extensión .ipnyb y nombrarlo con el formato T6PrimerNombrePrimerApellido.ipynb**\n",
    "\n",
    "## Fecha de entrega: 10 de octubre a las 19:59 antes de la clase."
   ]
  },
  {
   "cell_type": "markdown",
   "metadata": {},
   "source": [
    "Código de solución estudiante 1"
   ]
  },
  {
   "cell_type": "code",
   "execution_count": 13,
   "metadata": {},
   "outputs": [],
   "source": [
    "# Importamos librería para graficar y numpy\n",
    "import numpy as np\n",
    "import matplotlib.pyplot as plt\n",
    "# Importamos pandas\n",
    "import pandas as pd"
   ]
  },
  {
   "cell_type": "code",
   "execution_count": 14,
   "metadata": {},
   "outputs": [],
   "source": [
    "# Escribir la función acá\n",
    "def montecarlo1(f, a, b, N):\n",
    "    # Generar N puntos uniformemente distribudos en el intervalo [a,b)\n",
    "    ui = np.random.uniform(a, b, N)\n",
    "    \n",
    "    # Evaluar la función en los N puntos aleatorios, obtener el promedio y multiplicarlo por el intervalo\n",
    "    integral = ((b-a)/N)*np.sum(f(ui))\n",
    "    # integral = (b-a)*np.mean(f(ui))   Esta línea es equivalente a la anterior\n",
    "    return integral"
   ]
  },
  {
   "cell_type": "code",
   "execution_count": 18,
   "metadata": {},
   "outputs": [
    {
     "data": {
      "text/html": [
       "<div>\n",
       "<style scoped>\n",
       "    .dataframe tbody tr th:only-of-type {\n",
       "        vertical-align: middle;\n",
       "    }\n",
       "\n",
       "    .dataframe tbody tr th {\n",
       "        vertical-align: top;\n",
       "    }\n",
       "\n",
       "    .dataframe thead th {\n",
       "        text-align: right;\n",
       "    }\n",
       "</style>\n",
       "<table border=\"1\" class=\"dataframe\">\n",
       "  <thead>\n",
       "    <tr style=\"text-align: right;\">\n",
       "      <th></th>\n",
       "      <th>Aprox f1</th>\n",
       "      <th>Aprox f2</th>\n",
       "    </tr>\n",
       "    <tr>\n",
       "      <th>Cantidad de términos</th>\n",
       "      <th></th>\n",
       "      <th></th>\n",
       "    </tr>\n",
       "  </thead>\n",
       "  <tbody>\n",
       "    <tr>\n",
       "      <th>1</th>\n",
       "      <td>37198.969566</td>\n",
       "      <td>2.588243</td>\n",
       "    </tr>\n",
       "    <tr>\n",
       "      <th>10</th>\n",
       "      <td>14243.625066</td>\n",
       "      <td>0.534441</td>\n",
       "    </tr>\n",
       "    <tr>\n",
       "      <th>100</th>\n",
       "      <td>16192.097771</td>\n",
       "      <td>1.111863</td>\n",
       "    </tr>\n",
       "    <tr>\n",
       "      <th>1000</th>\n",
       "      <td>15563.637946</td>\n",
       "      <td>0.993887</td>\n",
       "    </tr>\n",
       "    <tr>\n",
       "      <th>10000</th>\n",
       "      <td>15854.319407</td>\n",
       "      <td>1.021203</td>\n",
       "    </tr>\n",
       "    <tr>\n",
       "      <th>100000</th>\n",
       "      <td>15618.908647</td>\n",
       "      <td>1.011077</td>\n",
       "    </tr>\n",
       "  </tbody>\n",
       "</table>\n",
       "</div>"
      ],
      "text/plain": [
       "                          Aprox f1  Aprox f2\n",
       "Cantidad de términos                        \n",
       "1                     37198.969566  2.588243\n",
       "10                    14243.625066  0.534441\n",
       "100                   16192.097771  1.111863\n",
       "1000                  15563.637946  0.993887\n",
       "10000                 15854.319407  1.021203\n",
       "100000                15618.908647  1.011077"
      ]
     },
     "execution_count": 18,
     "metadata": {},
     "output_type": "execute_result"
    }
   ],
   "source": [
    "# Código de solución estudiante 1\n",
    "# Resolver\n",
    "# 1. Definir las funciones que vamos a integrar\n",
    "def f1(x):\n",
    "    return np.log10(2*x) + (8)**x\n",
    "\n",
    "def f2(x):\n",
    "    return (2**x) / (x**4)\n",
    "\n",
    "# 2. Definimos los limites de integracion\n",
    "a, b = 1, 5\n",
    "\n",
    "# 3. Definimos cantidades de terminos\n",
    "N = np.logspace(0, 5, 6).astype(int)\n",
    "\n",
    "# Crear el DataFrame de pandas (tabla) que contendrá la información\n",
    "tabla2 = pd.DataFrame(index=N, columns = ['Aprox f1', 'Aprox f2'])\n",
    "\n",
    "# Agregar nombre al índice para que aprezca en la tabla\n",
    "tabla2.index.name = 'Cantidad de términos'\n",
    "\n",
    "# Rellenar las celdas de la aproximación de cada función\n",
    "for n in N:\n",
    "    aprox_f1 = montecarlo1(f1, a, b, n)\n",
    "    aprox_f2 = montecarlo1(f2, a, b, n)\n",
    "    \n",
    "    tabla2.loc[n, 'Aprox f1'] = aprox_f1\n",
    "    tabla2.loc[n, 'Aprox f2'] = aprox_f2\n",
    "    \n",
    "    \n",
    "tabla2"
   ]
  }
 ],
 "metadata": {
  "kernelspec": {
   "display_name": "Python 3 (ipykernel)",
   "language": "python",
   "name": "python3"
  },
  "language_info": {
   "codemirror_mode": {
    "name": "ipython",
    "version": 3
   },
   "file_extension": ".py",
   "mimetype": "text/x-python",
   "name": "python",
   "nbconvert_exporter": "python",
   "pygments_lexer": "ipython3",
   "version": "3.9.12"
  }
 },
 "nbformat": 4,
 "nbformat_minor": 2
}
